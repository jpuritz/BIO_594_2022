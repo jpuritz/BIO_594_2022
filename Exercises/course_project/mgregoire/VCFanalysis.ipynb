{
 "cells": [
  {
   "cell_type": "code",
   "execution_count": 45,
   "id": "6f9f0e9c",
   "metadata": {},
   "outputs": [],
   "source": [
    "#load modules\n",
    "import numpy as np\n",
    "import matplotlib.pyplot as plt\n",
    "%matplotlib inline\n",
    "import seaborn as sns\n",
    "import pandas as pd\n",
    "import io\n",
    "import os\n",
    "# import scikit-allel\n",
    "import allel"
   ]
  },
  {
   "cell_type": "code",
   "execution_count": 26,
   "id": "b47e973e",
   "metadata": {},
   "outputs": [],
   "source": [
    "#load the vcf file as a df with allel\n",
    "df = allel.vcf_to_dataframe(r'C:\\Users\\mjgregoire\\Documents\\Pumpkin\\filtVCF.recode.vcf', fields='*', alt_number=2)"
   ]
  },
  {
   "cell_type": "code",
   "execution_count": 29,
   "id": "c8ddeb48",
   "metadata": {},
   "outputs": [
    {
     "data": {
      "text/html": [
       "<div>\n",
       "<style scoped>\n",
       "    .dataframe tbody tr th:only-of-type {\n",
       "        vertical-align: middle;\n",
       "    }\n",
       "\n",
       "    .dataframe tbody tr th {\n",
       "        vertical-align: top;\n",
       "    }\n",
       "\n",
       "    .dataframe thead th {\n",
       "        text-align: right;\n",
       "    }\n",
       "</style>\n",
       "<table border=\"1\" class=\"dataframe\">\n",
       "  <thead>\n",
       "    <tr style=\"text-align: right;\">\n",
       "      <th></th>\n",
       "      <th>CHROM</th>\n",
       "      <th>POS</th>\n",
       "      <th>ID</th>\n",
       "      <th>REF</th>\n",
       "      <th>ALT_1</th>\n",
       "      <th>ALT_2</th>\n",
       "      <th>QUAL</th>\n",
       "      <th>DB</th>\n",
       "      <th>FS</th>\n",
       "      <th>QD</th>\n",
       "      <th>...</th>\n",
       "      <th>FILTER_read_position</th>\n",
       "      <th>FILTER_RMxNRepeatRegion</th>\n",
       "      <th>FILTER_strand_artifact</th>\n",
       "      <th>FILTER_str_contraction</th>\n",
       "      <th>FILTER_too_few_supporting_reads</th>\n",
       "      <th>FILTER_weak_evidence</th>\n",
       "      <th>numalt</th>\n",
       "      <th>altlen_1</th>\n",
       "      <th>altlen_2</th>\n",
       "      <th>is_snp</th>\n",
       "    </tr>\n",
       "  </thead>\n",
       "  <tbody>\n",
       "    <tr>\n",
       "      <th>57170</th>\n",
       "      <td>10</td>\n",
       "      <td>115437341</td>\n",
       "      <td>.</td>\n",
       "      <td>T</td>\n",
       "      <td>&lt;NON_REF&gt;</td>\n",
       "      <td>NaN</td>\n",
       "      <td>NaN</td>\n",
       "      <td>False</td>\n",
       "      <td>NaN</td>\n",
       "      <td>NaN</td>\n",
       "      <td>...</td>\n",
       "      <td>False</td>\n",
       "      <td>False</td>\n",
       "      <td>False</td>\n",
       "      <td>False</td>\n",
       "      <td>False</td>\n",
       "      <td>False</td>\n",
       "      <td>1</td>\n",
       "      <td>8</td>\n",
       "      <td>0</td>\n",
       "      <td>False</td>\n",
       "    </tr>\n",
       "    <tr>\n",
       "      <th>57171</th>\n",
       "      <td>10</td>\n",
       "      <td>115437364</td>\n",
       "      <td>.</td>\n",
       "      <td>G</td>\n",
       "      <td>&lt;NON_REF&gt;</td>\n",
       "      <td>NaN</td>\n",
       "      <td>NaN</td>\n",
       "      <td>False</td>\n",
       "      <td>NaN</td>\n",
       "      <td>NaN</td>\n",
       "      <td>...</td>\n",
       "      <td>False</td>\n",
       "      <td>False</td>\n",
       "      <td>False</td>\n",
       "      <td>False</td>\n",
       "      <td>False</td>\n",
       "      <td>False</td>\n",
       "      <td>1</td>\n",
       "      <td>8</td>\n",
       "      <td>0</td>\n",
       "      <td>False</td>\n",
       "    </tr>\n",
       "    <tr>\n",
       "      <th>57172</th>\n",
       "      <td>10</td>\n",
       "      <td>115437374</td>\n",
       "      <td>.</td>\n",
       "      <td>C</td>\n",
       "      <td>&lt;NON_REF&gt;</td>\n",
       "      <td>NaN</td>\n",
       "      <td>NaN</td>\n",
       "      <td>False</td>\n",
       "      <td>NaN</td>\n",
       "      <td>NaN</td>\n",
       "      <td>...</td>\n",
       "      <td>False</td>\n",
       "      <td>False</td>\n",
       "      <td>False</td>\n",
       "      <td>False</td>\n",
       "      <td>False</td>\n",
       "      <td>False</td>\n",
       "      <td>1</td>\n",
       "      <td>8</td>\n",
       "      <td>0</td>\n",
       "      <td>False</td>\n",
       "    </tr>\n",
       "    <tr>\n",
       "      <th>57173</th>\n",
       "      <td>10</td>\n",
       "      <td>115437375</td>\n",
       "      <td>.</td>\n",
       "      <td>G</td>\n",
       "      <td>&lt;NON_REF&gt;</td>\n",
       "      <td>NaN</td>\n",
       "      <td>NaN</td>\n",
       "      <td>False</td>\n",
       "      <td>NaN</td>\n",
       "      <td>NaN</td>\n",
       "      <td>...</td>\n",
       "      <td>False</td>\n",
       "      <td>False</td>\n",
       "      <td>False</td>\n",
       "      <td>False</td>\n",
       "      <td>False</td>\n",
       "      <td>False</td>\n",
       "      <td>1</td>\n",
       "      <td>8</td>\n",
       "      <td>0</td>\n",
       "      <td>False</td>\n",
       "    </tr>\n",
       "    <tr>\n",
       "      <th>57174</th>\n",
       "      <td>10</td>\n",
       "      <td>115437386</td>\n",
       "      <td>.</td>\n",
       "      <td>C</td>\n",
       "      <td>&lt;NON_REF&gt;</td>\n",
       "      <td>NaN</td>\n",
       "      <td>NaN</td>\n",
       "      <td>False</td>\n",
       "      <td>NaN</td>\n",
       "      <td>NaN</td>\n",
       "      <td>...</td>\n",
       "      <td>False</td>\n",
       "      <td>False</td>\n",
       "      <td>False</td>\n",
       "      <td>False</td>\n",
       "      <td>False</td>\n",
       "      <td>False</td>\n",
       "      <td>1</td>\n",
       "      <td>8</td>\n",
       "      <td>0</td>\n",
       "      <td>False</td>\n",
       "    </tr>\n",
       "  </tbody>\n",
       "</table>\n",
       "<p>5 rows × 46 columns</p>\n",
       "</div>"
      ],
      "text/plain": [
       "      CHROM        POS ID REF      ALT_1 ALT_2  QUAL     DB  FS  QD  ...  \\\n",
       "57170    10  115437341  .   T  <NON_REF>   NaN   NaN  False NaN NaN  ...   \n",
       "57171    10  115437364  .   G  <NON_REF>   NaN   NaN  False NaN NaN  ...   \n",
       "57172    10  115437374  .   C  <NON_REF>   NaN   NaN  False NaN NaN  ...   \n",
       "57173    10  115437375  .   G  <NON_REF>   NaN   NaN  False NaN NaN  ...   \n",
       "57174    10  115437386  .   C  <NON_REF>   NaN   NaN  False NaN NaN  ...   \n",
       "\n",
       "       FILTER_read_position  FILTER_RMxNRepeatRegion  FILTER_strand_artifact  \\\n",
       "57170                 False                    False                   False   \n",
       "57171                 False                    False                   False   \n",
       "57172                 False                    False                   False   \n",
       "57173                 False                    False                   False   \n",
       "57174                 False                    False                   False   \n",
       "\n",
       "       FILTER_str_contraction  FILTER_too_few_supporting_reads  \\\n",
       "57170                   False                            False   \n",
       "57171                   False                            False   \n",
       "57172                   False                            False   \n",
       "57173                   False                            False   \n",
       "57174                   False                            False   \n",
       "\n",
       "       FILTER_weak_evidence  numalt  altlen_1  altlen_2  is_snp  \n",
       "57170                 False       1         8         0   False  \n",
       "57171                 False       1         8         0   False  \n",
       "57172                 False       1         8         0   False  \n",
       "57173                 False       1         8         0   False  \n",
       "57174                 False       1         8         0   False  \n",
       "\n",
       "[5 rows x 46 columns]"
      ]
     },
     "execution_count": 29,
     "metadata": {},
     "output_type": "execute_result"
    }
   ],
   "source": [
    "df.head(5)\n",
    "df.tail(5)"
   ]
  },
  {
   "cell_type": "code",
   "execution_count": 61,
   "id": "faee9d68",
   "metadata": {},
   "outputs": [
    {
     "data": {
      "text/plain": [
       "False    17948503\n",
       "Name: is_snp, dtype: int64"
      ]
     },
     "execution_count": 61,
     "metadata": {},
     "output_type": "execute_result"
    }
   ],
   "source": [
    "#count the number of SNPs\n",
    "df.is_snp.value_counts()\n",
    "#this means Pumpkin has no snps on this chromosome!!! So maybe I was wrong in thinking the cat chromosome D1 is chromosome 10... that's okay! \n",
    "#if only I knew more about cat genetics! "
   ]
  },
  {
   "cell_type": "code",
   "execution_count": null,
   "id": "206435fb",
   "metadata": {},
   "outputs": [],
   "source": [
    "#we can still use this vcf of chromosome 10 to look at things like hetrozygosity and variants across position on the chromosome"
   ]
  },
  {
   "cell_type": "code",
   "execution_count": 47,
   "id": "e1257218",
   "metadata": {},
   "outputs": [
    {
     "data": {
      "text/plain": [
       "['calldata/AD',\n",
       " 'calldata/AF',\n",
       " 'calldata/DP',\n",
       " 'calldata/F1R2',\n",
       " 'calldata/F2R1',\n",
       " 'calldata/GP',\n",
       " 'calldata/GQ',\n",
       " 'calldata/GT',\n",
       " 'calldata/ICNT',\n",
       " 'calldata/MB',\n",
       " 'calldata/MIN_DP',\n",
       " 'calldata/PL',\n",
       " 'calldata/PRI',\n",
       " 'calldata/PS',\n",
       " 'calldata/SB',\n",
       " 'calldata/SPL',\n",
       " 'calldata/SQ',\n",
       " 'samples',\n",
       " 'variants/ALT',\n",
       " 'variants/CHROM',\n",
       " 'variants/DB',\n",
       " 'variants/DP',\n",
       " 'variants/END',\n",
       " 'variants/FILTER_DRAGENHardQUAL',\n",
       " 'variants/FILTER_LowDepth',\n",
       " 'variants/FILTER_LowGQ',\n",
       " 'variants/FILTER_PASS',\n",
       " 'variants/FILTER_PloidyConflict',\n",
       " 'variants/FILTER_RMxNRepeatRegion',\n",
       " 'variants/FILTER_base_quality',\n",
       " 'variants/FILTER_filtered_reads',\n",
       " 'variants/FILTER_fragment_length',\n",
       " 'variants/FILTER_long_indel',\n",
       " 'variants/FILTER_low_depth',\n",
       " 'variants/FILTER_low_frac_info_reads',\n",
       " 'variants/FILTER_low_normal_depth',\n",
       " 'variants/FILTER_mapping_quality',\n",
       " 'variants/FILTER_multiallelic',\n",
       " 'variants/FILTER_no_reliable_supporting_read',\n",
       " 'variants/FILTER_non_homref_normal',\n",
       " 'variants/FILTER_panel_of_normals',\n",
       " 'variants/FILTER_read_position',\n",
       " 'variants/FILTER_str_contraction',\n",
       " 'variants/FILTER_strand_artifact',\n",
       " 'variants/FILTER_too_few_supporting_reads',\n",
       " 'variants/FILTER_weak_evidence',\n",
       " 'variants/FS',\n",
       " 'variants/FractionInformativeReads',\n",
       " 'variants/ID',\n",
       " 'variants/MQ',\n",
       " 'variants/MQRankSum',\n",
       " 'variants/POS',\n",
       " 'variants/QD',\n",
       " 'variants/QUAL',\n",
       " 'variants/R2_5P_bias',\n",
       " 'variants/REF',\n",
       " 'variants/ReadPosRankSum',\n",
       " 'variants/SOMATIC',\n",
       " 'variants/SOR',\n",
       " 'variants/altlen',\n",
       " 'variants/is_snp',\n",
       " 'variants/numalt']"
      ]
     },
     "execution_count": 47,
     "metadata": {},
     "output_type": "execute_result"
    }
   ],
   "source": [
    "#read in the vcf as a python dict\n",
    "callset = allel.read_vcf(r'C:\\Users\\mjgregoire\\Documents\\Pumpkin\\filtVCF.recode.vcf', fields='*')\n",
    "#check what the attributes of the vcf dict are\n",
    "sorted(callset.keys()) \n",
    "#‘samples’ array contains sample identifiers extracted from the header line in the VCF file\n",
    "#arrays with keys beginning ‘variants/’ come from the fixed fields in the VCF file\n",
    "#arrays with keys beginning ‘calldata/’ come from the sample fields in the VCF file"
   ]
  },
  {
   "cell_type": "code",
   "execution_count": 37,
   "id": "dd5bdb1e",
   "metadata": {},
   "outputs": [
    {
     "data": {
      "text/html": [
       "<div class=\"allel allel-DisplayAs2D\"><span>&lt;AlleleCountsArray shape=(17948503, 8) dtype=int32&gt;</span><table><thead><tr><th></th><th style=\"text-align: center\">0</th><th style=\"text-align: center\">1</th><th style=\"text-align: center\">2</th><th style=\"text-align: center\">3</th><th style=\"text-align: center\">4</th><th style=\"text-align: center\">5</th><th style=\"text-align: center\">6</th><th style=\"text-align: center\">7</th></tr></thead><tbody><tr><th style=\"text-align: center; background-color: white; border-right: 1px solid black; \">0</th><td style=\"text-align: center\">2</td><td style=\"text-align: center\">0</td><td style=\"text-align: center\">0</td><td style=\"text-align: center\">0</td><td style=\"text-align: center\">0</td><td style=\"text-align: center\">0</td><td style=\"text-align: center\">0</td><td style=\"text-align: center\">0</td></tr><tr><th style=\"text-align: center; background-color: white; border-right: 1px solid black; \">1</th><td style=\"text-align: center\">2</td><td style=\"text-align: center\">0</td><td style=\"text-align: center\">0</td><td style=\"text-align: center\">0</td><td style=\"text-align: center\">0</td><td style=\"text-align: center\">0</td><td style=\"text-align: center\">0</td><td style=\"text-align: center\">0</td></tr><tr><th style=\"text-align: center; background-color: white; border-right: 1px solid black; \">2</th><td style=\"text-align: center\">2</td><td style=\"text-align: center\">0</td><td style=\"text-align: center\">0</td><td style=\"text-align: center\">0</td><td style=\"text-align: center\">0</td><td style=\"text-align: center\">0</td><td style=\"text-align: center\">0</td><td style=\"text-align: center\">0</td></tr><tr><th style=\"text-align: center; background-color: white; border-right: 1px solid black; \">...</th><td style=\"text-align: center\" colspan=\"9\">...</td></tr><tr><th style=\"text-align: center; background-color: white; border-right: 1px solid black; \">17948500</th><td style=\"text-align: center\">0</td><td style=\"text-align: center\">0</td><td style=\"text-align: center\">0</td><td style=\"text-align: center\">0</td><td style=\"text-align: center\">0</td><td style=\"text-align: center\">0</td><td style=\"text-align: center\">0</td><td style=\"text-align: center\">0</td></tr><tr><th style=\"text-align: center; background-color: white; border-right: 1px solid black; \">17948501</th><td style=\"text-align: center\">2</td><td style=\"text-align: center\">0</td><td style=\"text-align: center\">0</td><td style=\"text-align: center\">0</td><td style=\"text-align: center\">0</td><td style=\"text-align: center\">0</td><td style=\"text-align: center\">0</td><td style=\"text-align: center\">0</td></tr><tr><th style=\"text-align: center; background-color: white; border-right: 1px solid black; \">17948502</th><td style=\"text-align: center\">0</td><td style=\"text-align: center\">0</td><td style=\"text-align: center\">0</td><td style=\"text-align: center\">0</td><td style=\"text-align: center\">0</td><td style=\"text-align: center\">0</td><td style=\"text-align: center\">0</td><td style=\"text-align: center\">0</td></tr></tbody></table></div>"
      ],
      "text/plain": [
       "<AlleleCountsArray shape=(17948503, 8) dtype=int32>\n",
       "2 0 0 0 0 0 0 0\n",
       "2 0 0 0 0 0 0 0\n",
       "2 0 0 0 0 0 0 0\n",
       "...\n",
       "0 0 0 0 0 0 0 0\n",
       "2 0 0 0 0 0 0 0\n",
       "0 0 0 0 0 0 0 0"
      ]
     },
     "execution_count": 37,
     "metadata": {},
     "output_type": "execute_result"
    }
   ],
   "source": [
    "#make a genotype array based on the vcf file\n",
    "gt = allel.GenotypeArray(callset['calldata/GT'])\n",
    "gt\n",
    "#count the number of heterozygous calls per variant\n",
    "gt.count_het(axis=1)\n",
    "#count the number times each allele (0=reference, 1=first alternate, 2=second alternate, etc.) is observed for each variant\n",
    "ac = gt.count_alleles()\n",
    "ac"
   ]
  },
  {
   "cell_type": "code",
   "execution_count": 42,
   "id": "b0e93675",
   "metadata": {},
   "outputs": [
    {
     "data": {
      "text/plain": [
       "['calldata/DP', 'variants/DP']"
      ]
     },
     "execution_count": 42,
     "metadata": {},
     "output_type": "execute_result"
    }
   ],
   "source": [
    "#check the number of filtered reads that support each of the reported alleles\n",
    "callset = allel.read_vcf(r'C:\\Users\\mjgregoire\\Documents\\Pumpkin\\filtVCF.recode.vcf', fields=['variants/DP', 'calldata/DP'])\n",
    "sorted(callset.keys())"
   ]
  },
  {
   "cell_type": "code",
   "execution_count": 43,
   "id": "087f70c4",
   "metadata": {},
   "outputs": [
    {
     "data": {
      "text/plain": [
       "array([-1, -1, -1, ..., -1, -1, -1])"
      ]
     },
     "execution_count": 43,
     "metadata": {},
     "output_type": "execute_result"
    }
   ],
   "source": [
    "callset['variants/DP']"
   ]
  },
  {
   "cell_type": "code",
   "execution_count": 44,
   "id": "f8d94715",
   "metadata": {},
   "outputs": [
    {
     "data": {
      "text/plain": [
       "array([[2],\n",
       "       [5],\n",
       "       [8],\n",
       "       ...,\n",
       "       [1],\n",
       "       [1],\n",
       "       [0]], dtype=int16)"
      ]
     },
     "execution_count": 44,
     "metadata": {},
     "output_type": "execute_result"
    }
   ],
   "source": [
    "callset['calldata/DP']"
   ]
  },
  {
   "cell_type": "code",
   "execution_count": 48,
   "id": "4a9f6da1",
   "metadata": {},
   "outputs": [
    {
     "data": {
      "text/html": [
       "<div class=\"allel allel-DisplayAs1D\"><span>&lt;SortedIndex shape=(17948503,) dtype=int32&gt;</span><table><thead><tr><th style=\"text-align: center\">0</th><th style=\"text-align: center\">1</th><th style=\"text-align: center\">2</th><th style=\"text-align: center\">3</th><th style=\"text-align: center\">4</th><th style=\"text-align: center\">...</th><th style=\"text-align: center\">17948498</th><th style=\"text-align: center\">17948499</th><th style=\"text-align: center\">17948500</th><th style=\"text-align: center\">17948501</th><th style=\"text-align: center\">17948502</th></tr></thead><tbody><tr><td style=\"text-align: center\">1</td><td style=\"text-align: center\">31</td><td style=\"text-align: center\">55</td><td style=\"text-align: center\">58</td><td style=\"text-align: center\">65</td><td style=\"text-align: center\">...</td><td style=\"text-align: center\">115437341</td><td style=\"text-align: center\">115437364</td><td style=\"text-align: center\">115437374</td><td style=\"text-align: center\">115437375</td><td style=\"text-align: center\">115437386</td></tr></tbody></table></div>"
      ],
      "text/plain": [
       "<SortedIndex shape=(17948503,) dtype=int32>\n",
       "[1, 31, 55, 58, 65, ..., 115437341, 115437364, 115437374, 115437375, 115437386]"
      ]
     },
     "execution_count": 48,
     "metadata": {},
     "output_type": "execute_result"
    }
   ],
   "source": [
    "#get the positions\n",
    "pos = allel.SortedIndex(callset['variants/POS'])\n",
    "pos"
   ]
  },
  {
   "cell_type": "code",
   "execution_count": 49,
   "id": "bdb297c9",
   "metadata": {},
   "outputs": [],
   "source": [
    "#define a function to plot the density of the variants based on position\n",
    "def plot_windowed_variant_density(pos, window_size, title=None):\n",
    "    # setup windows \n",
    "    bins = np.arange(0, pos.max(), window_size)\n",
    "    # use window midpoints as x coordinate\n",
    "    x = (bins[1:] + bins[:-1])/2\n",
    "    # compute variant density in each window\n",
    "    h, _ = np.histogram(pos, bins=bins)\n",
    "    y = h / window_size\n",
    "    # plot\n",
    "    fig, ax = plt.subplots(figsize=(12, 3))\n",
    "    sns.despine(ax=ax, offset=10)\n",
    "    ax.plot(x, y)\n",
    "    ax.set_xlabel('Chromosome position (bp)')\n",
    "    ax.set_ylabel('Variant density (bp$^{-1}$)')\n",
    "    if title:\n",
    "        ax.set_title(title)"
   ]
  },
  {
   "cell_type": "code",
   "execution_count": 54,
   "id": "8e52d3f4",
   "metadata": {},
   "outputs": [
    {
     "data": {
      "image/png": "[encoded data removed]",
      "text/plain": [
       "<Figure size 864x216 with 1 Axes>"
      ]
     },
     "metadata": {
      "needs_background": "light"
     },
     "output_type": "display_data"
    }
   ],
   "source": [
    "#look at the graph\n",
    "plot_windowed_variant_density(pos, window_size=100000, title='Variant density')\n",
    "#save the graph as a figure\n",
    "plt.savefig(r'C:\\Users\\mjgregoire\\Documents\\Pumpkin\\variantDensity.png')"
   ]
  }
 ],
 "metadata": {
  "kernelspec": {
   "display_name": "Python 3",
   "language": "python",
   "name": "python3"
  },
  "language_info": {
   "codemirror_mode": {
    "name": "ipython",
    "version": 3
   },
   "file_extension": ".py",
   "mimetype": "text/x-python",
   "name": "python",
   "nbconvert_exporter": "python",
   "pygments_lexer": "ipython3",
   "version": "3.8.8"
  }
 },
 "nbformat": 4,
 "nbformat_minor": 5
}
